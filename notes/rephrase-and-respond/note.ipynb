{
 "cells": [
  {
   "cell_type": "markdown",
   "metadata": {},
   "source": [
    "# Reshape and Respond"
   ]
  },
  {
   "cell_type": "markdown",
   "metadata": {},
   "source": [
    "### モデルの準備"
   ]
  },
  {
   "cell_type": "code",
   "execution_count": 47,
   "metadata": {},
   "outputs": [],
   "source": [
    "import openai\n",
    "import os\n",
    "from dotenv import load_dotenv\n",
    "\n",
    "load_dotenv(verbose=True)\n",
    "\n",
    "openai.api_key = os.environ[\"OPENAI_API_KEY\"]"
   ]
  },
  {
   "cell_type": "markdown",
   "metadata": {},
   "source": []
  },
  {
   "cell_type": "code",
   "execution_count": 48,
   "metadata": {},
   "outputs": [],
   "source": [
    "client = openai.OpenAI()"
   ]
  },
  {
   "cell_type": "code",
   "execution_count": 49,
   "metadata": {},
   "outputs": [],
   "source": [
    "def response(prompt):\n",
    "  response = client.chat.completions.create(\n",
    "      messages=[\n",
    "        {\n",
    "            \"role\": \"user\",\n",
    "            \"content\": prompt,\n",
    "        }\n",
    "      ],\n",
    "      model=\"gpt-4\",\n",
    "      max_tokens=500\n",
    "  )\n",
    "  return response.choices[0].message.content"
   ]
  },
  {
   "cell_type": "code",
   "execution_count": 50,
   "metadata": {},
   "outputs": [
    {
     "name": "stdout",
     "output_type": "stream",
     "text": [
      "日本一高い山は富士山です。\n"
     ]
    }
   ],
   "source": [
    "prompt = \"日本一高い山は？\"\n",
    "print(response(prompt))"
   ]
  },
  {
   "cell_type": "markdown",
   "metadata": {},
   "source": [
    "### ベースとなる質問"
   ]
  },
  {
   "cell_type": "code",
   "execution_count": 51,
   "metadata": {},
   "outputs": [
    {
     "name": "stdout",
     "output_type": "stream",
     "text": [
      "nMusk\n"
     ]
    }
   ],
   "source": [
    "prompt = \"\"\"\n",
    "「Elon Musk」という言葉の中の単語の最後の文字を取り、それらを連結してください。\n",
    "\"\"\"\n",
    "print(response(prompt))"
   ]
  },
  {
   "cell_type": "markdown",
   "metadata": {},
   "source": [
    "### One-step RaR"
   ]
  },
  {
   "cell_type": "code",
   "execution_count": 52,
   "metadata": {},
   "outputs": [
    {
     "name": "stdout",
     "output_type": "stream",
     "text": [
      "「Elon Musk」というフレーズの各単語の最後の文字を抽出し、それらを結合してください。\n",
      "\n",
      "答え： \"nk\"\n"
     ]
    }
   ],
   "source": [
    "prompt = \"\"\"\n",
    "「Elon Musk」という言葉の中の単語の最後の文字を取り、それらを連結してください。\n",
    "\n",
    "質問を言い換えて拡張し、答えてください。\n",
    "\"\"\"\n",
    "print(response(prompt))"
   ]
  },
  {
   "cell_type": "markdown",
   "metadata": {},
   "source": [
    "### Two-step RaR:"
   ]
  },
  {
   "cell_type": "code",
   "execution_count": 53,
   "metadata": {},
   "outputs": [
    {
     "name": "stdout",
     "output_type": "stream",
     "text": [
      "「Elon Musk」というフレーズの各単語の最後の文字を取得し、それらを結合してください。\n"
     ]
    }
   ],
   "source": [
    "prompt = \"\"\"\n",
    "「Elon Musk」という言葉の中の単語の最後の文字を取り、それらを連結してください。\n",
    "\n",
    "質問を言い換えて拡張してください。\n",
    "\"\"\"\n",
    "print(response(prompt))"
   ]
  },
  {
   "cell_type": "code",
   "execution_count": 54,
   "metadata": {},
   "outputs": [
    {
     "name": "stdout",
     "output_type": "stream",
     "text": [
      "「Elon Musk」の各単語の最後の文字を取り出して連結すると、「nn」になります。\n"
     ]
    }
   ],
   "source": [
    "prompt = \"\"\"\n",
    "元の質問:\n",
    "「Elon Musk」という言葉の中の単語の最後の文字を取り、それらを連結してください。\n",
    "\n",
    "言い換えた質問: \n",
    "「Elon Musk」の単語の最後の文字を取り出し、それらを連結したものを教えてください。\n",
    "\n",
    "言い換えた質問を参考にして、元の質問に答えてください\n",
    "\"\"\"\n",
    "print(response(prompt))"
   ]
  },
  {
   "cell_type": "markdown",
   "metadata": {},
   "source": [
    "### Combining RaR and CoT"
   ]
  },
  {
   "cell_type": "code",
   "execution_count": 55,
   "metadata": {},
   "outputs": [
    {
     "name": "stdout",
     "output_type": "stream",
     "text": [
      "まず「Elon Musk」は二つの単語から成る名前です。それぞれの単語の最後の文字を取り出してみると、「Elon」の最後の文字は'n'、「Musk」の最後の文字は'k'です。 \n",
      "\n",
      "それらを連結すると、'n' + 'k' = 'nk' になります。\n",
      "\n",
      "したがって、「Elon Musk」の単語の最後の文字を取り出し、それらを連結したものは 'nk' です。\n"
     ]
    }
   ],
   "source": [
    "prompt = \"\"\"\n",
    "「Elon Musk」の単語の最後の文字を取り出し、それらを連結したものを教えてください。\n",
    "\n",
    "質問に対して、段階的に考えて、答えてください。\n",
    "\"\"\"\n",
    "print(response(prompt))"
   ]
  }
 ],
 "metadata": {
  "kernelspec": {
   "display_name": ".venv",
   "language": "python",
   "name": "python3"
  },
  "language_info": {
   "codemirror_mode": {
    "name": "ipython",
    "version": 3
   },
   "file_extension": ".py",
   "mimetype": "text/x-python",
   "name": "python",
   "nbconvert_exporter": "python",
   "pygments_lexer": "ipython3",
   "version": "3.11.2"
  }
 },
 "nbformat": 4,
 "nbformat_minor": 2
}

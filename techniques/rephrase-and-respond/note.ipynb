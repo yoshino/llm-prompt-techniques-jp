{
 "cells": [
  {
   "cell_type": "markdown",
   "metadata": {},
   "source": [
    "# Reshape and Respond"
   ]
  },
  {
   "cell_type": "markdown",
   "metadata": {},
   "source": [
    "### モデルの準備"
   ]
  },
  {
   "cell_type": "code",
   "execution_count": 1,
   "metadata": {},
   "outputs": [],
   "source": [
    "import openai\n",
    "import os\n",
    "from dotenv import load_dotenv\n",
    "\n",
    "load_dotenv(verbose=True)\n",
    "\n",
    "openai.api_key = os.environ[\"OPENAI_API_KEY\"]"
   ]
  },
  {
   "cell_type": "markdown",
   "metadata": {},
   "source": []
  },
  {
   "cell_type": "code",
   "execution_count": 2,
   "metadata": {},
   "outputs": [],
   "source": [
    "client = openai.OpenAI()"
   ]
  },
  {
   "cell_type": "code",
   "execution_count": 3,
   "metadata": {},
   "outputs": [],
   "source": [
    "def response(prompt):\n",
    "  response = client.chat.completions.create(\n",
    "      messages=[\n",
    "        {\n",
    "            \"role\": \"user\",\n",
    "            \"content\": prompt,\n",
    "        }\n",
    "      ],\n",
    "      model=\"gpt-4\",\n",
    "      max_tokens=500\n",
    "  )\n",
    "  return response.choices[0].message.content"
   ]
  },
  {
   "cell_type": "code",
   "execution_count": 4,
   "metadata": {},
   "outputs": [
    {
     "name": "stdout",
     "output_type": "stream",
     "text": [
      "日本一高い山は富士山です。\n"
     ]
    }
   ],
   "source": [
    "prompt = \"日本一高い山は？\"\n",
    "print(response(prompt))"
   ]
  },
  {
   "cell_type": "markdown",
   "metadata": {},
   "source": [
    "### ベースとなる質問"
   ]
  },
  {
   "cell_type": "code",
   "execution_count": 5,
   "metadata": {},
   "outputs": [
    {
     "name": "stdout",
     "output_type": "stream",
     "text": [
      "nMusk\n",
      "\n"
     ]
    }
   ],
   "source": [
    "question = \"「Elon Musk」という言葉の中の単語の最後の文字を取り、それらを連結してください。\"\n",
    "print(response(question))"
   ]
  },
  {
   "cell_type": "markdown",
   "metadata": {},
   "source": [
    "### One-step RaR"
   ]
  },
  {
   "cell_type": "code",
   "execution_count": 7,
   "metadata": {},
   "outputs": [
    {
     "name": "stdout",
     "output_type": "stream",
     "text": [
      "「Elon Musk」というフレーズの各単語の最後の文字をそれぞれ取り出し、それを連結するとどのようになるのか答えてください。\n",
      "\n",
      "答えは、「nk」です。\n"
     ]
    }
   ],
   "source": [
    "one_step_rar = \"\"\"\n",
    "{question}\n",
    "\n",
    "Rephrase and expand the question, and respond\n",
    "日本語で答えてください。\n",
    "\"\"\"\n",
    "print(response(one_step_rar.format(question=question)))"
   ]
  },
  {
   "cell_type": "markdown",
   "metadata": {},
   "source": [
    "### Two-step RaR:"
   ]
  },
  {
   "cell_type": "code",
   "execution_count": 9,
   "metadata": {},
   "outputs": [],
   "source": [
    "two_step_rar_1 = \"\"\"\n",
    "{original_question}\n",
    "\n",
    "Given the above question, rephrase and expand it to help\n",
    "you do better answering. Maintain all information in the\n",
    "original question.\n",
    "\"\"\"\n",
    "reshaped_question = response(two_step_rar_1.format(original_question=question))"
   ]
  },
  {
   "cell_type": "code",
   "execution_count": 10,
   "metadata": {},
   "outputs": [
    {
     "name": "stdout",
     "output_type": "stream",
     "text": [
      "Could you please extract the last letter from each word in the term \"Elon Musk\", and then combine these letters?\n"
     ]
    }
   ],
   "source": [
    "print(reshaped_question)"
   ]
  },
  {
   "cell_type": "code",
   "execution_count": 11,
   "metadata": {},
   "outputs": [
    {
     "name": "stdout",
     "output_type": "stream",
     "text": [
      "「n」と「k」を連結しますので、「nk」になります。\n"
     ]
    }
   ],
   "source": [
    "two_step_rar_2 = \"\"\"\n",
    "(original) {original_question}\n",
    "(rephrased) {reshaped_question}\n",
    "Use your answer for the rephrased question to answer the\n",
    "original question.\n",
    "日本語で答えてください。\n",
    "\"\"\"\n",
    "print(response(two_step_rar_2.format(original_question=question, reshaped_question=reshaped_question)))"
   ]
  }
 ],
 "metadata": {
  "kernelspec": {
   "display_name": ".venv",
   "language": "python",
   "name": "python3"
  },
  "language_info": {
   "codemirror_mode": {
    "name": "ipython",
    "version": 3
   },
   "file_extension": ".py",
   "mimetype": "text/x-python",
   "name": "python",
   "nbconvert_exporter": "python",
   "pygments_lexer": "ipython3",
   "version": "3.11.2"
  }
 },
 "nbformat": 4,
 "nbformat_minor": 2
}
